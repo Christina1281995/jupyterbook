{
 "cells": [
  {
   "attachments": {},
   "cell_type": "markdown",
   "metadata": {},
   "source": [
    "## Document-Level Sentiment Analysis with Lexicon and Machine Learning Methods"
   ]
  },
  {
   "attachments": {},
   "cell_type": "markdown",
   "metadata": {
    "tags": []
   },
   "source": [
    "Demo Dataset from the AIFER Project"
   ]
  },
  {
   "cell_type": "code",
   "execution_count": 1,
   "metadata": {
    "tags": [
     "remove-input"
    ]
   },
   "outputs": [
    {
     "name": "stdout",
     "output_type": "stream",
     "text": [
      "AIFER example dataset size: 11177\n"
     ]
    },
    {
     "data": {
      "text/html": [
       "<style type=\"text/css\">\n",
       "#T_dcd19 th {\n",
       "  text-align: left;\n",
       "}\n",
       "#T_dcd19_row0_col0, #T_dcd19_row0_col1, #T_dcd19_row0_col2, #T_dcd19_row1_col0, #T_dcd19_row1_col1, #T_dcd19_row1_col2, #T_dcd19_row2_col0, #T_dcd19_row2_col1, #T_dcd19_row2_col2 {\n",
       "  text-align: left;\n",
       "}\n",
       "</style>\n",
       "<table id=\"T_dcd19\">\n",
       "  <thead>\n",
       "    <tr>\n",
       "      <th class=\"blank level0\" >&nbsp;</th>\n",
       "      <th id=\"T_dcd19_level0_col0\" class=\"col_heading level0 col0\" >Date</th>\n",
       "      <th id=\"T_dcd19_level0_col1\" class=\"col_heading level0 col1\" >Text</th>\n",
       "      <th id=\"T_dcd19_level0_col2\" class=\"col_heading level0 col2\" >Language</th>\n",
       "    </tr>\n",
       "  </thead>\n",
       "  <tbody>\n",
       "    <tr>\n",
       "      <th id=\"T_dcd19_level0_row0\" class=\"row_heading level0 row0\" >3204</th>\n",
       "      <td id=\"T_dcd19_row0_col0\" class=\"data row0 col0\" >2021-07-11 13:38:35</td>\n",
       "      <td id=\"T_dcd19_row0_col1\" class=\"data row0 col1\" >was ein Tipp: bist du arm dran und kannst es dir nicht leisten iwo besser zu leben na dann hast du zum glück neben einer viel befahrenenstraße weniger Miete +  hohes Gesundheitsrisiko🤩🤩😍😍  \n",
       "... CDU einfach eine schande 🤮</td>\n",
       "      <td id=\"T_dcd19_row0_col2\" class=\"data row0 col2\" >de</td>\n",
       "    </tr>\n",
       "    <tr>\n",
       "      <th id=\"T_dcd19_level0_row1\" class=\"row_heading level0 row1\" >10490</th>\n",
       "      <td id=\"T_dcd19_row1_col0\" class=\"data row1 col0\" >2021-07-30 20:58:41</td>\n",
       "      <td id=\"T_dcd19_row1_col1\" class=\"data row1 col1\" >@castlekitten47 @br_ricke @Esposito544Anna @BeateMermer @Francois7747 @Francois3064 @TomKnutson10 @zaratustra75 @KoesserSandra @carmen_borg60 @berg6bieu @wrigley_derrick @ArmellePrevot @Nikolay37836824 @Heike622 @AlineNathally3 @CaskettOlitz @luana_88_lima @MDegen55 I wish you a Good night Sharon, sleep well and have a magic weekend and happy Saturday. 💛💙 https://t.co/tRG0ARoCwg</td>\n",
       "      <td id=\"T_dcd19_row1_col2\" class=\"data row1 col2\" >en</td>\n",
       "    </tr>\n",
       "    <tr>\n",
       "      <th id=\"T_dcd19_level0_row2\" class=\"row_heading level0 row2\" >8144</th>\n",
       "      <td id=\"T_dcd19_row2_col0\" class=\"data row2 col0\" >2021-07-24 07:04:46</td>\n",
       "      <td id=\"T_dcd19_row2_col1\" class=\"data row2 col1\" >@Silke74918142 Guten Tag Silke ☕🙂🌄</td>\n",
       "      <td id=\"T_dcd19_row2_col2\" class=\"data row2 col2\" >de</td>\n",
       "    </tr>\n",
       "  </tbody>\n",
       "</table>\n"
      ],
      "text/plain": [
       "<pandas.io.formats.style.Styler at 0x240dc30c820>"
      ]
     },
     "execution_count": 1,
     "metadata": {},
     "output_type": "execute_result"
    }
   ],
   "source": [
    "import pandas as pd\n",
    "import geopandas                                                        # geographic data handling\n",
    "import numpy as np                                                      # data handling\n",
    "from IPython.display import HTML, display    \n",
    "\n",
    "# Load AIFER Dataset\n",
    "aifer = pd.read_csv(\"../Data/Disaster_responses/ahrtal_tweets.csv\", sep=\"\\t\")\n",
    "print(f\"AIFER example dataset size: {len(aifer)}\")\n",
    "\n",
    "# show df\n",
    "demo_cols = aifer[['date','text', 'tweet_lang']]\n",
    "col_names = {'date': 'Date', 'text': 'Text', 'tweet_lang': 'Language'}\n",
    "demo_cols = demo_cols.rename(columns=col_names)\n",
    "demo_cols.sample(3).style.set_properties(**{'text-align': 'left'}).set_table_styles([dict(selector = 'th', props=[('text-align', 'left')])])"
   ]
  },
  {
   "attachments": {},
   "cell_type": "markdown",
   "metadata": {},
   "source": [
    "### Rule-Based/ Lexicon Approaches\n",
    "\n",
    "Lexicon-based approaches are still used in certain cases, especially when the goal is to perform sentiment analysis **quickly and with a limited amount of computational resources**. In lexicon-based sentiment analysis, words are assigned a sentiment score based on a pre-existing lexicon, such as SentiWordNet or the AFINN lexicon, and the overall sentiment of a text is calculated by summing the sentiment scores of the individual words.\n",
    "\n",
    "Lexicon-based approaches have several advantages: \n",
    "- Ease of use\n",
    "- Speed\n",
    "- Interpretability\n",
    "\n",
    "But there are downsides:\n",
    "- Difficulties with sarcasm, negation, sentiment of words in context\n"
   ]
  },
  {
   "attachments": {},
   "cell_type": "markdown",
   "metadata": {},
   "source": [
    "<img src=\"https://t-redactyl.io/figure/Vader_1.jpg\" align=\"right\" width=\"20%\">\n",
    "\n",
    "**Example lexicon**: VADER (Valence Aware Dictionary and sEntiment Reasoner) <br> <br>\n",
    "VADER is specifically attuned to sentiments expressed in social media. It uses a combination of sentiment-related words and emojis, along with some simple heuristics (punctuation, capitalisation, degree modifiers, conjuctions), to assign a sentiment score (positive, negative, or neutral) to a given piece of text. It's output sentiment score is a numeric score between -1 and +1. The word sentiment scores range from -4 to 4 (neg to pos). <br> <br>\n",
    "Example of some words in the lexicon and their scores: <br> "
   ]
  },
  {
   "cell_type": "code",
   "execution_count": 2,
   "metadata": {
    "tags": [
     "remove-cell"
    ]
   },
   "outputs": [
    {
     "name": "stderr",
     "output_type": "stream",
     "text": [
      "D:\\Users\\Christina\\Programmes\\envs\\GRACE_GPU\\lib\\site-packages\\pysal\\explore\\segregation\\network\\network.py:15: UserWarning: You need pandana and urbanaccess to work with segregation's network module\n",
      "You can install them with  `pip install urbanaccess pandana` or `conda install -c udst pandana urbanaccess`\n",
      "  warn(\n"
     ]
    }
   ],
   "source": [
    "from vaderSentiment.vaderSentiment import SentimentIntensityAnalyzer    # VADER\n",
    "sa = SentimentIntensityAnalyzer()                                       # Create the variable sa to hold the VADER lexicon object \n",
    "\n",
    "import pandas as pd\n",
    "import geopandas                                                        # geographic data handling\n",
    "import numpy as np                                                      # data handling\n",
    "from IPython.display import HTML, display                               # interactive notebook features\n",
    "\n",
    "import matplotlib.pyplot as plt                                         # data visualisation and graphical plotting\n",
    "%matplotlib inline\n",
    "from matplotlib import colors \n",
    "from matplotlib.ticker import PercentFormatter \n",
    "\n",
    "import plpygis                                                         # a converter to and from the PostGIS geometry types, WKB, GeoJSON and Shapely formats\n",
    "from plpygis import Geometry\n",
    "import descartes                                                       # an integration for Shapely geometry objects with Matplotlib\n",
    "\n",
    "import folium                                                          # interactive mapping capabilities\n",
    "import mapclassify \n",
    "\n",
    "from shapely.geometry import Point, Polygon, shape                     # creating geospatial data\n",
    "from shapely import wkb, wkt                                           # creating and parsing geospatial data\n",
    "import shapely\n",
    "\n",
    "\n",
    "import pysal\n",
    "from pysal.lib import weights\n",
    "import seaborn as sns\n",
    "sns.set_style(\"darkgrid\")\n"
   ]
  },
  {
   "cell_type": "code",
   "execution_count": 3,
   "metadata": {
    "tags": [
     "remove-input"
    ]
   },
   "outputs": [
    {
     "data": {
      "text/html": [
       "<div>\n",
       "<style scoped>\n",
       "    .dataframe tbody tr th:only-of-type {\n",
       "        vertical-align: middle;\n",
       "    }\n",
       "\n",
       "    .dataframe tbody tr th {\n",
       "        vertical-align: top;\n",
       "    }\n",
       "\n",
       "    .dataframe thead th {\n",
       "        text-align: right;\n",
       "    }\n",
       "</style>\n",
       "<table border=\"1\" class=\"dataframe\">\n",
       "  <thead>\n",
       "    <tr style=\"text-align: right;\">\n",
       "      <th></th>\n",
       "      <th>Sentiment Score</th>\n",
       "    </tr>\n",
       "  </thead>\n",
       "  <tbody>\n",
       "    <tr>\n",
       "      <th>beautiful</th>\n",
       "      <td>2.9</td>\n",
       "    </tr>\n",
       "    <tr>\n",
       "      <th>beautifuler</th>\n",
       "      <td>2.1</td>\n",
       "    </tr>\n",
       "    <tr>\n",
       "      <th>beautifulest</th>\n",
       "      <td>2.6</td>\n",
       "    </tr>\n",
       "    <tr>\n",
       "      <th>beautifully</th>\n",
       "      <td>2.7</td>\n",
       "    </tr>\n",
       "    <tr>\n",
       "      <th>beautifulness</th>\n",
       "      <td>2.6</td>\n",
       "    </tr>\n",
       "    <tr>\n",
       "      <th>beautify</th>\n",
       "      <td>2.3</td>\n",
       "    </tr>\n",
       "    <tr>\n",
       "      <th>beautifying</th>\n",
       "      <td>2.3</td>\n",
       "    </tr>\n",
       "    <tr>\n",
       "      <th>beauts</th>\n",
       "      <td>1.7</td>\n",
       "    </tr>\n",
       "    <tr>\n",
       "      <th>beauty</th>\n",
       "      <td>2.8</td>\n",
       "    </tr>\n",
       "    <tr>\n",
       "      <th>belittle</th>\n",
       "      <td>-1.9</td>\n",
       "    </tr>\n",
       "  </tbody>\n",
       "</table>\n",
       "</div>"
      ],
      "text/plain": [
       "               Sentiment Score\n",
       "beautiful                  2.9\n",
       "beautifuler                2.1\n",
       "beautifulest               2.6\n",
       "beautifully                2.7\n",
       "beautifulness              2.6\n",
       "beautify                   2.3\n",
       "beautifying                2.3\n",
       "beauts                     1.7\n",
       "beauty                     2.8\n",
       "belittle                  -1.9"
      ]
     },
     "execution_count": 3,
     "metadata": {},
     "output_type": "execute_result"
    }
   ],
   "source": [
    "lex = pd.Series(sa.lexicon).to_frame()\n",
    "lex = lex.rename(columns={0: \"Sentiment Score\"})\n",
    "lex[1010:1020]"
   ]
  },
  {
   "attachments": {},
   "cell_type": "markdown",
   "metadata": {},
   "source": [
    "A sample of how the VADER lexicon would classify the AIFER dataset (english tweets only):"
   ]
  },
  {
   "cell_type": "code",
   "execution_count": 4,
   "metadata": {
    "tags": [
     "remove-input"
    ]
   },
   "outputs": [
    {
     "data": {
      "text/html": [
       "<style type=\"text/css\">\n",
       "#T_61667 th {\n",
       "  text-align: left;\n",
       "}\n",
       "#T_61667_row0_col0, #T_61667_row0_col1, #T_61667_row1_col0, #T_61667_row1_col1, #T_61667_row2_col0, #T_61667_row2_col1, #T_61667_row3_col0, #T_61667_row3_col1 {\n",
       "  text-align: left;\n",
       "}\n",
       "</style>\n",
       "<table id=\"T_61667\">\n",
       "  <thead>\n",
       "    <tr>\n",
       "      <th class=\"blank level0\" >&nbsp;</th>\n",
       "      <th id=\"T_61667_level0_col0\" class=\"col_heading level0 col0\" >sentiment</th>\n",
       "      <th id=\"T_61667_level0_col1\" class=\"col_heading level0 col1\" >text</th>\n",
       "    </tr>\n",
       "  </thead>\n",
       "  <tbody>\n",
       "    <tr>\n",
       "      <th id=\"T_61667_level0_row0\" class=\"row_heading level0 row0\" >10089</th>\n",
       "      <td id=\"T_61667_row0_col0\" class=\"data row0 col0\" >0.971600</td>\n",
       "      <td id=\"T_61667_row0_col1\" class=\"data row0 col1\" >@Mini_okdoksmok @MariahCarey That has been THE year 🥰🥰🥰</td>\n",
       "    </tr>\n",
       "    <tr>\n",
       "      <th id=\"T_61667_level0_row1\" class=\"row_heading level0 row1\" >3646</th>\n",
       "      <td id=\"T_61667_row1_col0\" class=\"data row1 col0\" >0.980600</td>\n",
       "      <td id=\"T_61667_row1_col1\" class=\"data row1 col1\" >@MDegen55 Good morning my friend Gus. Enjoy the Tuesday. 😊😊Have a beautiful Sunshine Day. 🌞🍀🌞🌞🍨🍨🍵🍵 https://t.co/40QEmvkC6Y</td>\n",
       "    </tr>\n",
       "    <tr>\n",
       "      <th id=\"T_61667_level0_row2\" class=\"row_heading level0 row2\" >4045</th>\n",
       "      <td id=\"T_61667_row2_col0\" class=\"data row2 col0\" >0.361200</td>\n",
       "      <td id=\"T_61667_row2_col1\" class=\"data row2 col1\" >@jsneufeld @euro2021Athens Thank you, Janis</td>\n",
       "    </tr>\n",
       "    <tr>\n",
       "      <th id=\"T_61667_level0_row3\" class=\"row_heading level0 row3\" >4659</th>\n",
       "      <td id=\"T_61667_row3_col0\" class=\"data row3 col0\" >-0.773400</td>\n",
       "      <td id=\"T_61667_row3_col1\" class=\"data row3 col1\" >My thoughts and prayers go out to the families and their friends who has lost somebody in this horrible flood 😢😢😢🕊 - and prayers for those, who are missing , they ll be back safe soon 🖤❤️💛🇩🇪</td>\n",
       "    </tr>\n",
       "  </tbody>\n",
       "</table>\n"
      ],
      "text/plain": [
       "<pandas.io.formats.style.Styler at 0x240e71dcc70>"
      ]
     },
     "execution_count": 4,
     "metadata": {},
     "output_type": "execute_result"
    }
   ],
   "source": [
    "# english only\n",
    "aifer_en = aifer[aifer['tweet_lang']== 'en']\n",
    "# print(len(aifer_en))\n",
    "\n",
    "scores = {}\n",
    "listscores = []\n",
    "\n",
    "for tweet in aifer_en['text']:\n",
    "    scores[sa.polarity_scores(tweet)['compound'] ] = str(tweet)\n",
    "    listscores.append(sa.polarity_scores(tweet)['compound'])\n",
    "\n",
    "aifer_en_copy = aifer_en.copy()\n",
    "aifer_en_copy['sentiment'] = listscores\n",
    "\n",
    "# show df\n",
    "aifer_en_copy_demo = aifer_en_copy[['sentiment','text']]\n",
    "pd.options.display.float_format = '{:,.2f}'.format\n",
    "aifer_en_copy_demo.sample(4).style.set_properties(**{'text-align': 'left'}).set_table_styles([dict(selector = 'th', props=[('text-align', 'left')])])\n"
   ]
  },
  {
   "attachments": {},
   "cell_type": "markdown",
   "metadata": {},
   "source": [
    "### Machine Learning Approach: Naive Bayes\n",
    "\n",
    "Naive Bayes is a probabilistic algorithm (based on Bayes' theorem). It uses the probability of words or terms appearing in documents of different categories to determine the likelihood that a new document belongs to each category. It involves two basic steps: \n",
    ">\n",
    ">**Training**: The algorithm learns the probability of words or terms appearing in each category. This is simply done by counting the number of occurrences of each word or term in the training corpus for each category and then computing the probability of each word or term given the category. This results in a set of word probabilities for each category.\n",
    ">\n",
    ">**Classification**: The algorithm uses the probabilities learned in the training step to classify new documents. For a new document, the algorithm calculates the likelihood of the document being in each category based on the probabilities of its words or terms. The category with the highest likelihood is chosen as the classification for the document.\n",
    ">\n",
    "\n",
    "The \"naive\" aspect of Naive Bayes comes from the assumption that the occurrences of words or terms in a document are independent of one another, which is not always true(!).\n",
    "\n",
    "\n"
   ]
  },
  {
   "cell_type": "code",
   "execution_count": 5,
   "metadata": {
    "tags": [
     "remove-cell"
    ]
   },
   "outputs": [
    {
     "name": "stderr",
     "output_type": "stream",
     "text": [
      "[nltk_data] Downloading package stopwords to\n",
      "[nltk_data]     C:\\Users\\Christina\\AppData\\Roaming\\nltk_data...\n",
      "[nltk_data]   Package stopwords is already up-to-date!\n"
     ]
    }
   ],
   "source": [
    "from bs4 import BeautifulSoup\n",
    "import xml.etree.cElementTree as ET           # for parsing XML file\n",
    "import urllib.request\n",
    "\n",
    "# for preprocessing \n",
    "import re\n",
    "import string\n",
    "\n",
    "import nltk\n",
    "nltk.download('stopwords')\n",
    "from nltk.corpus import stopwords\n",
    "from nltk.stem import PorterStemmer\n",
    "from nltk.tokenize import TweetTokenizer\n"
   ]
  },
  {
   "attachments": {},
   "cell_type": "markdown",
   "metadata": {
    "tags": [
     "remove-cell"
    ]
   },
   "source": [
    "#### Helper Functions\n",
    "\n",
    "Helper Functions:\n",
    "- `process tweet(tweet)`: performs stopword removal, RT, hyperlink, punctuation, and # removals, stemming, and tokenisation. Returns a list of tokenised words.\n",
    "- `count_sents(result, texts, ys)`: Iterates through training dataset to create a dict with (word, sentimentlabel) = count to indicate how often a given word is associated with positive or negative sentiments.\n",
    "- `lookup(freqs, word, label)`: checks frequencies of a (word, label) pair in the training data.\n",
    "- `addgeom(in_df)`: Reads the 'geom' column of the input df, turns it into a shapely Geometry type and generates a new geodataframe (geopandas) which can be used to plot tweets on a map. Returns new geo-df.\n",
    "- `importdata()`: Allows the user to either upload their own CSV file or resorts to the default monkeypox dataset. \n",
    "- `createplot(dataframe, title)`: Generates a histogram plot showing the sentiment scores that are added to the dataset.\n",
    "- `split_test_train(dataframe)`: function to split up an input dataframe into 80% training and 20% testing data. Both training and testing datasets are split into x (text) and y (labels). "
   ]
  },
  {
   "cell_type": "code",
   "execution_count": 6,
   "metadata": {
    "tags": [
     "remove-cell"
    ]
   },
   "outputs": [],
   "source": [
    "def process_tweet(tweet):\n",
    "    '''\n",
    "    Input:\n",
    "        text/tweet: a string containing a tweet or text\n",
    "    Output:\n",
    "        text_clean: a list of words containing the processed tweet\n",
    "\n",
    "    '''\n",
    "    stemmer = PorterStemmer()\n",
    "    stopwords_english = stopwords.words('english')\n",
    "    # remove stock market tickers like $GE\n",
    "    tweet = re.sub(r'\\$\\w*', '', tweet)\n",
    "    # remove old style retweet text \"RT\"\n",
    "    tweet = re.sub(r'^RT[\\s]+', '', tweet)\n",
    "    # remove hyperlinks\n",
    "    #tweet = re.sub(r'https?:\\/\\/.*[\\r\\n]*', '', tweet)\n",
    "    tweet = re.sub(r'https?://[^\\s\\n\\r]+', '', tweet)\n",
    "    # remove hashtags\n",
    "    # only removing the hash # sign from the word\n",
    "    tweet = re.sub(r'#', '', tweet)\n",
    "    # tokenize tweets\n",
    "    tokenizer = TweetTokenizer(preserve_case=False, strip_handles=True,\n",
    "                               reduce_len=True)\n",
    "    tweet_tokens = tokenizer.tokenize(tweet)\n",
    "\n",
    "    tweets_clean = []\n",
    "    for word in tweet_tokens:\n",
    "        if (word not in stopwords_english and  # remove stopwords\n",
    "                word not in string.punctuation):  # remove punctuation\n",
    "            # tweets_clean.append(word)\n",
    "            stem_word = stemmer.stem(word)  # stemming word\n",
    "            tweets_clean.append(stem_word)\n",
    "\n",
    "    return tweets_clean\n",
    "\n",
    "    # create dictionary keeping track of how often a word is associated with a \n",
    "# pos or neg sentiment\n",
    "# result(word, label) = count\n",
    "\n",
    "def count_sents(result, texts, ys):\n",
    "    '''\n",
    "    Input:\n",
    "        result: a dictionary that will be used to map each pair to its frequency\n",
    "        tweets: a list of tweets\n",
    "        ys: a list corresponding to the sentiment of each tweet (either 0 or 1)\n",
    "    Output:\n",
    "        result: a dictionary mapping each pair to its frequency\n",
    "    '''\n",
    "\n",
    "    # iterate through rows\n",
    "    for y, text in zip(ys, texts):\n",
    "      # iterate through each preprocessed word in text\n",
    "      for word in process_tweet(text):\n",
    "        # define the key, which is the word and label tuple\n",
    "        pair = (word, y)\n",
    "        \n",
    "        # if the key exists in the dictionary, increment the count\n",
    "        if pair in result:\n",
    "            result[pair] += 1\n",
    "\n",
    "        # else, if the key is new, add it to the dictionary and set the count to 1\n",
    "        else:\n",
    "            result[pair] = 1\n",
    "\n",
    "    return result\n",
    "\n",
    "def lookup(freqs, word, label):\n",
    "    '''\n",
    "    Input:\n",
    "        freqs: a dictionary with the frequency of each pair (or tuple)\n",
    "        word: the word to look up\n",
    "        label: the label corresponding to the word\n",
    "    Output:\n",
    "        n: the number of times the word with its corresponding label appears.\n",
    "    '''\n",
    "    n = 0  # freqs.get((word, label), 0)\n",
    "\n",
    "    pair = (word, label)\n",
    "    if (pair in freqs):\n",
    "        n = freqs[pair]\n",
    "\n",
    "    return n\n",
    "\n",
    "# turn nurmal dataframe with 'geom' column into a geodataframe\n",
    "\n",
    "def addgeom(in_df):\n",
    "  '''\n",
    "  Input:\n",
    "    in_df: a dataframe with a 'geom' column to be converted into a shapely \n",
    "    Geometry column\n",
    "  Output: \n",
    "    a geopandas dataframe with a designated geometry column which can be mapped\n",
    "  '''\n",
    "  \n",
    "  # initiate new geom list\n",
    "  new_geom = []\n",
    "\n",
    "  # access 'geom' column in input df and convert into geopandas geometry\n",
    "  for item in in_df['geom']:\n",
    "      new_geom.append(Geometry(item).shapely)\n",
    "\n",
    "  # add as new column to input df\n",
    "  in_df[\"geometry\"] = new_geom\n",
    "\n",
    "  # create geopandas GeoDataFrame\n",
    "  df_geo = geopandas.GeoDataFrame(in_df, crs=\"EPSG:4326\")\n",
    "  s = geopandas.GeoSeries(df_geo['geometry'])\n",
    "  df_geo['geom'] = df_geo['geometry']\n",
    "  df_geo['geometry'] = df_geo['geom'].to_crs('epsg:3785').centroid.to_crs(df_geo.crs)\n",
    "\n",
    "  return df_geo\n",
    "\n",
    "# either upload own dataset or use one of the defaults\n",
    "def importdata():\n",
    "  # get user input\n",
    "  own_upload = input(\"Do you want to upload your own .CSV dataset?\\nIf you choose to upload your own, make sure it has a 'text' and a 'geom' column.\\n(y /n): \")\n",
    "  \n",
    "  if own_upload == 'y' or own_upload == 'Y' or own_upload == 'yes':\n",
    "    uploaded = files.upload()\n",
    "    dataset = pd.read_csv(uploaded)\n",
    "  else:\n",
    "    # Load dataset (also from mounted google drive)\n",
    "    dataset = pd.read_csv('/content/drive/MyDrive/Msc AGI/Master/notebooks/100k_monkeypox.csv')\n",
    "  return dataset\n",
    "\n",
    "def createplot(dataframe, title):\n",
    "  legend = ['Sentiments'] \n",
    "  \n",
    "  # create histogram\n",
    "  fig, ax1 = plt.subplots(1, figsize =(20, 7),  tight_layout = True) \n",
    "    \n",
    "  # Remove axes spines  \n",
    "  for s in ['top', 'bottom', 'left', 'right']:  \n",
    "      ax1.spines[s].set_visible(False)  \n",
    "      \n",
    "  # Remove x, y ticks \n",
    "  ax1.xaxis.set_ticks_position('none')  \n",
    "  ax1.yaxis.set_ticks_position('none')  \n",
    "      \n",
    "  # Add padding between axes and labels  \n",
    "  ax1.xaxis.set_tick_params(pad = 5)  \n",
    "  ax1.yaxis.set_tick_params(pad = 10)  \n",
    "    \n",
    "  # Add x, y gridlines  \n",
    "  ax1.grid(visible = True, color ='grey',  linestyle ='-.', linewidth = 0.5,  alpha = 0.6)  \n",
    "\n",
    "  cm = plt.cm.get_cmap('RdYlGn')\n",
    "  Y,X = np.histogram(dataframe['sentiment_score'], 28)\n",
    "  x_span = X.max()-X.min()\n",
    "  C = [cm(((x-X.min())/x_span)) for x in X]\n",
    "\n",
    "  # Creating histogram \n",
    "  plt.subplot(1,2,1)\n",
    "  plt.bar(X[:-1],Y,color=C,width=X[1]-X[0])\n",
    "\n",
    "  # Adding extra features     \n",
    "  plt.xlabel(\"Sentiment Score\") \n",
    "  plt.ylabel(\"# of Tweets\") \n",
    "  plt.legend(legend) \n",
    "  plt.title(title) \n",
    "\n",
    "# split df into test and training data \n",
    "def split_test_train(dataframe, name):\n",
    "  '''\n",
    "  Input: \n",
    "    dataframe: a dataframe with a column 'sentiment' with 0s and 1s \n",
    "  Output:\n",
    "    train_x: 80% of the data, both pos and neg texts\n",
    "    test_x: 20% of the data, both pos and neg texts\n",
    "    train_y: 80% of the data, corresponding labels \n",
    "    test_y: 20% of the data, corresponding labels\n",
    "  '''\n",
    "\n",
    "  # split positive and negative texts\n",
    "  pos = dataframe[dataframe['sentiment'] == 1]\n",
    "  neg = dataframe[dataframe['sentiment'] == 0]\n",
    "\n",
    "  # print lengths\n",
    "  #print(f'Positive Texts: {len(pos)}')\n",
    "  #print(f'Negative Texts: {len(neg)}')\n",
    "\n",
    "  # Plot the data\n",
    "  labels = ['Positive Texts', 'Negative Texts']\n",
    "  data = [len(pos), len(neg)]\n",
    "\n",
    "  x_axis = ['Positive','Negative']\n",
    "  y_axis = [len(pos), len(neg)]\n",
    "\n",
    "  plt.figure(figsize=(6, 4))\n",
    "\n",
    "  # set the custom colors\n",
    "  colors = ['#73E87F' ,'#F24E4E']\n",
    "\n",
    "  # plot the bar chart\n",
    "  plt.bar(x_axis, y_axis, color=colors)\n",
    "\n",
    "  # Add title and labels\n",
    "  plt.title(f\"Sentiment Distribution in the {name} Dataset\")\n",
    "  plt.xlabel(\"Sentiment\")\n",
    "  plt.ylabel(\"Count\")\n",
    "\n",
    "  plt.show()\n",
    "\n",
    "  # split into training and testing datasets: 80% to 20%\n",
    "  split_pos_at_80_percent = round(len(pos) * 0.8)\n",
    "  split_neg_at_80_percent = round(len(neg) * 0.8)\n",
    "\n",
    "  train_pos = pos[: split_pos_at_80_percent]\n",
    "  test_pos = pos[split_pos_at_80_percent :]\n",
    "  train_neg = neg[: split_neg_at_80_percent]\n",
    "  test_neg = neg[split_neg_at_80_percent :]\n",
    "\n",
    "  # train_pos.head()\n",
    "\n",
    "  train_x = list(train_pos[\"text\"]) + list(train_neg[\"text\"])\n",
    "  test_x = list(test_pos['text']) + list(test_neg['text'])\n",
    "  train_y = np.append(np.ones(len(train_pos)), np.zeros(len(train_neg)))\n",
    "  test_y = np.append(np.ones(len(test_pos)), np.zeros(len(test_neg)))\n",
    "\n",
    "  return train_x, test_x, train_y, test_y\n"
   ]
  },
  {
   "attachments": {},
   "cell_type": "markdown",
   "metadata": {},
   "source": [
    "#### Naive Bayes Functions\n",
    "\n",
    "Includes 3 functions:\n",
    "- `train_naive_bayes(freqs, train_x, train_y)`\n",
    "- `naive_bayes_predict(tweet, logprior, loglikelihood)` \n",
    "- `test_naive_bayes(test_x, test_y, logprior, loglikelihood, naive_bayes_predict=naive_bayes_predict)`\n",
    "\n",
    "<br>\n",
    "\n",
    "**Training Steps**\n",
    "- Identify the number of classes (=2).\n",
    "- Create a probability for each class.\n",
    "$P(D_{pos})$ is the probability that given text/document is positive.\n",
    "$P(D_{neg})$ is the probability that the given text/document is negative.\n",
    "\n",
    "$$P(D_{pos}) = \\frac{D_{pos}}{D}\\$$\n",
    "\n",
    "$$P(D_{neg}) = \\frac{D_{neg}}{D}\\$$\n",
    "\n",
    "Where $D$ is the total number of documents (or tweets), $D_{pos}$ is the total number of positive tweets and $D_{neg}$ is the total number of negative tweets.The probabilites are stored in a dict. \n",
    "\n",
    "<br>\n",
    "\n",
    "**Prior and Logprior**\n",
    "\n",
    "The prior probability represents the underlying probability in the target population that a tweet is positive versus negative.  In other words, if we had no specific information and blindly picked a tweet out of the population set, what is the probability that it will be positive versus that it will be negative? That is the \"prior\".\n",
    "\n",
    "The prior is the ratio of the probabilities $\\frac{P(D_{pos})}{P(D_{neg})}$.\n",
    "We can take the log of the prior to rescale it, and we'll call this the logprior\n",
    "\n",
    "$$\n",
    "\\text{logprior} = \\log \\left( \\frac{P(D_{pos})}{P(D_{neg})} \\right) = \\log \\left( \\frac{D_{pos}}{D_{neg}} \\right)\n",
    "$$\n"
   ]
  },
  {
   "cell_type": "code",
   "execution_count": 7,
   "metadata": {
    "tags": [
     "hide-cell"
    ]
   },
   "outputs": [],
   "source": [
    "def train_naive_bayes(freqs, train_x, train_y):\n",
    "    '''\n",
    "    Input:\n",
    "        freqs: dictionary from (word, label) to how often the word appears\n",
    "        train_x: a list of tweets\n",
    "        train_y: a list of labels correponding to the tweets (0,1)\n",
    "    Output:\n",
    "        logprior: the log prior. (equation 3 above)\n",
    "        loglikelihood: the log likelihood of you Naive bayes equation. (equation 6 above)\n",
    "    '''\n",
    "    loglikelihood = {}\n",
    "    logprior = 0\n",
    "\n",
    "    # calculate V, the number of unique words in the vocabulary\n",
    "    vocab = set(pair[0] for pair in freqs.keys())\n",
    "    V = len(vocab)    \n",
    "\n",
    "    # calculate N_pos, N_neg, V_pos, V_neg\n",
    "    N_pos = N_neg = 0\n",
    "    for pair in freqs.keys():\n",
    "        # if the label is positive (greater than zero)\n",
    "        if pair[1] > 0:\n",
    "\n",
    "            # Increment the number of positive words by the count for this (word, label) pair\n",
    "            N_pos += freqs[pair]\n",
    "\n",
    "        # else, the label is negative\n",
    "        else:\n",
    "\n",
    "            # increment the number of negative words by the count for this (word,label) pair\n",
    "            N_neg += freqs[pair]\n",
    "    \n",
    "    # Calculate D, the number of documents\n",
    "    D = len(train_y)\n",
    "\n",
    "    # Calculate D_pos, the number of positive documents\n",
    "    D_pos = np.sum(train_y)\n",
    "\n",
    "    # Calculate D_neg, the number of negative documents\n",
    "    D_neg = D - D_pos\n",
    "\n",
    "    # Calculate logprior\n",
    "    logprior = np.math.log(D_pos) -  np.math.log(D_neg)\n",
    "    \n",
    "    # For each word in the vocabulary...\n",
    "    for word in vocab:\n",
    "        # get the positive and negative frequency of the word\n",
    "        freq_pos = lookup(freqs, word, 1)\n",
    "        freq_neg = lookup(freqs, word, 0)\n",
    "\n",
    "        # calculate the probability that each word is positive, and negative\n",
    "        p_w_pos = ((freq_pos + 1) / (N_pos + V))\n",
    "        p_w_neg = ((freq_neg + 1) / (N_neg + V))\n",
    "\n",
    "        # calculate the log likelihood of the word\n",
    "        loglikelihood[word] = np.math.log(p_w_pos / p_w_neg)\n",
    "\n",
    "    return logprior, loglikelihood"
   ]
  },
  {
   "cell_type": "code",
   "execution_count": 8,
   "metadata": {
    "tags": [
     "hide-cell"
    ]
   },
   "outputs": [],
   "source": [
    "def naive_bayes_predict(tweet, logprior, loglikelihood):\n",
    "    '''\n",
    "    Input:\n",
    "        tweet: a string\n",
    "        logprior: a number\n",
    "        loglikelihood: a dictionary of words mapping to numbers\n",
    "    Output:\n",
    "        p: the sum of all the logliklihoods of each word in the tweet (if found in the dictionary) + logprior (a number)\n",
    "\n",
    "    '''\n",
    "    # process the tweet to get a list of words\n",
    "    word_l = process_tweet(tweet)\n",
    "\n",
    "    # initialize probability to zero\n",
    "    p = 0\n",
    "\n",
    "    # add the logprior\n",
    "    p += logprior\n",
    "\n",
    "    for word in word_l:\n",
    "\n",
    "        # check if the word exists in the loglikelihood dictionary\n",
    "        if word in loglikelihood:\n",
    "            # add the log likelihood of that word to the probability\n",
    "            p += loglikelihood.get(word)\n",
    "\n",
    "    return p"
   ]
  },
  {
   "cell_type": "code",
   "execution_count": 9,
   "metadata": {
    "tags": [
     "hide-cell"
    ]
   },
   "outputs": [],
   "source": [
    "def test_naive_bayes(test_x, test_y, logprior, loglikelihood, naive_bayes_predict=naive_bayes_predict):\n",
    "    \"\"\"\n",
    "    Input:\n",
    "        test_x: A list of tweets\n",
    "        test_y: the corresponding labels for the list of tweets\n",
    "        logprior: the logprior\n",
    "        loglikelihood: a dictionary with the loglikelihoods for each word\n",
    "    Output:\n",
    "        accuracy: (# of tweets classified correctly)/(total # of tweets)\n",
    "    \"\"\"\n",
    "    accuracy = 0  # return this properly\n",
    "\n",
    "    y_hats = []\n",
    "    for tweet in test_x:\n",
    "        # if the prediction is > 0\n",
    "        if naive_bayes_predict(tweet, logprior, loglikelihood) > 0:\n",
    "            # the predicted class is 1\n",
    "            y_hat_i = 1\n",
    "        else:\n",
    "            # otherwise the predicted class is 0\n",
    "            y_hat_i = 0\n",
    "\n",
    "        # append the predicted class to the list y_hats\n",
    "        y_hats.append(y_hat_i)\n",
    "\n",
    "    # error is the average of the absolute values of the differences between y_hats and test_y \n",
    "    error = np.mean(np.absolute(y_hats - test_y))\n",
    "\n",
    "    # Accuracy is 1 minus the error\n",
    "    accuracy = 1 - error\n",
    "\n",
    "    return accuracy"
   ]
  },
  {
   "attachments": {},
   "cell_type": "markdown",
   "metadata": {
    "tags": []
   },
   "source": [
    "<br>\n",
    "\n",
    "Two datasets for training the Naive Bayes classifiers:\n",
    "<br>\n",
    "SemEval 2014 (Task 4)"
   ]
  },
  {
   "cell_type": "code",
   "execution_count": 10,
   "metadata": {
    "tags": [
     "remove-input"
    ]
   },
   "outputs": [
    {
     "data": {
      "text/html": [
       "<div>\n",
       "<style scoped>\n",
       "    .dataframe tbody tr th:only-of-type {\n",
       "        vertical-align: middle;\n",
       "    }\n",
       "\n",
       "    .dataframe tbody tr th {\n",
       "        vertical-align: top;\n",
       "    }\n",
       "\n",
       "    .dataframe thead th {\n",
       "        text-align: right;\n",
       "    }\n",
       "</style>\n",
       "<table border=\"1\" class=\"dataframe\">\n",
       "  <thead>\n",
       "    <tr style=\"text-align: right;\">\n",
       "      <th></th>\n",
       "      <th>text</th>\n",
       "      <th>category</th>\n",
       "      <th>polarity</th>\n",
       "      <th>sentiment</th>\n",
       "    </tr>\n",
       "  </thead>\n",
       "  <tbody>\n",
       "    <tr>\n",
       "      <th>0</th>\n",
       "      <td>But the staff was so horrible to us.</td>\n",
       "      <td>service</td>\n",
       "      <td>negative</td>\n",
       "      <td>0</td>\n",
       "    </tr>\n",
       "    <tr>\n",
       "      <th>1</th>\n",
       "      <td>To be completely fair, the only redeeming fact...</td>\n",
       "      <td>food</td>\n",
       "      <td>positive</td>\n",
       "      <td>1</td>\n",
       "    </tr>\n",
       "    <tr>\n",
       "      <th>2</th>\n",
       "      <td>To be completely fair, the only redeeming fact...</td>\n",
       "      <td>anecdotes/miscellaneous</td>\n",
       "      <td>negative</td>\n",
       "      <td>0</td>\n",
       "    </tr>\n",
       "    <tr>\n",
       "      <th>3</th>\n",
       "      <td>The food is uniformly exceptional, with a very...</td>\n",
       "      <td>food</td>\n",
       "      <td>positive</td>\n",
       "      <td>1</td>\n",
       "    </tr>\n",
       "    <tr>\n",
       "      <th>4</th>\n",
       "      <td>Where Gabriela personaly greets you and recomm...</td>\n",
       "      <td>service</td>\n",
       "      <td>positive</td>\n",
       "      <td>1</td>\n",
       "    </tr>\n",
       "  </tbody>\n",
       "</table>\n",
       "</div>"
      ],
      "text/plain": [
       "                                                text                 category  \\\n",
       "0               But the staff was so horrible to us.                  service   \n",
       "1  To be completely fair, the only redeeming fact...                     food   \n",
       "2  To be completely fair, the only redeeming fact...  anecdotes/miscellaneous   \n",
       "3  The food is uniformly exceptional, with a very...                     food   \n",
       "4  Where Gabriela personaly greets you and recomm...                  service   \n",
       "\n",
       "   polarity  sentiment  \n",
       "0  negative          0  \n",
       "1  positive          1  \n",
       "2  negative          0  \n",
       "3  positive          1  \n",
       "4  positive          1  "
      ]
     },
     "execution_count": 10,
     "metadata": {},
     "output_type": "execute_result"
    }
   ],
   "source": [
    "# load from url\n",
    "url = 'https://git.sbg.ac.at/s1080384/sentimentanalysis/-/raw/main/data/Restaurants_Train_v2.xml'\n",
    "document = urllib.request.urlopen(url).read()\n",
    "root = ET.fromstring(document)\n",
    "\n",
    "# show example text from dataset (semeval 2014)\n",
    "# root[0][0].text\n",
    "\n",
    "# create dataframe from xml file\n",
    "data = []\n",
    "for sentence in root.findall('sentence'):\n",
    "    text = sentence.find('text').text\n",
    "    aspectCategories = sentence.find('aspectCategories')\n",
    "    for aspectCategory in aspectCategories.findall('aspectCategory'):\n",
    "        category = aspectCategory.get('category')\n",
    "        polarity = aspectCategory.get('polarity')\n",
    "        data.append((text, category, polarity))\n",
    "\n",
    "semeval = pd.DataFrame(data,columns=['text','category','polarity'])\n",
    "\n",
    "# add column with 0s and 1s in place of textual sentiment values\n",
    "semeval['sentiment'] = np.where(semeval['polarity']== 'positive', 1, np.where(semeval['polarity']== 'negative',0, -1))\n",
    "\n",
    "# preview Semeval\n",
    "semeval.head(5)"
   ]
  },
  {
   "attachments": {},
   "cell_type": "markdown",
   "metadata": {},
   "source": [
    "... and the Twemlab Goldstandard"
   ]
  },
  {
   "cell_type": "code",
   "execution_count": 11,
   "metadata": {
    "tags": [
     "remove-cell"
    ]
   },
   "outputs": [],
   "source": [
    "# Load TwEmLab Goldstandard\n",
    "url1 = 'https://git.sbg.ac.at/s1080384/sentimentanalysis/-/raw/main/data/TWEMlab%20Test%20Dataset/goldstandard20170719.xml'\n",
    "document1 = urllib.request.urlopen(url1).read()\n",
    "root1 = ET.fromstring(document1)\n",
    "\n",
    "# check contents\n",
    "#root1[0][1].text\n",
    "\n",
    "# create dataframe from xml file\n",
    "data1 = []\n",
    "for tweet in root1.findall('Tweet'):\n",
    "    id = tweet.find('ID').text\n",
    "    label = tweet.find('Label').text\n",
    "    data1.append((id, label))\n",
    "\n",
    "df1=pd.DataFrame(data1,columns=['id','label'])\n",
    "\n",
    "# Load TwEmLab Boston Tweets\n",
    "url2 = 'https://git.sbg.ac.at/s1080384/sentimentanalysis/-/raw/main/data/TWEMlab%20Test%20Dataset/boston_gs.xml'\n",
    "document2 = urllib.request.urlopen(url2).read()\n",
    "root2 = ET.fromstring(document2)\n",
    "\n",
    "# check contents\n",
    "# root2[0][1].text\n",
    "\n",
    "# create dataframe from xml file\n",
    "data2 = []\n",
    "for tweet in root2.findall('Tweet'):\n",
    "    id = tweet.find('ID').text\n",
    "    text = tweet.find('text').text\n",
    "    goldstandard = tweet.attrib.get(\"goldstandard\")\n",
    "    data2.append((id, text, goldstandard))\n",
    "\n",
    "df2=pd.DataFrame(data2,columns=['id','text', 'goldstandard'])\n",
    "\n",
    "# merge the two separate dataframes based on id columns\n",
    "merge = pd.merge(df1, df2, on='id')\n",
    "\n",
    "# keep only the tweets that are part of the goldstandard\n",
    "twemlab = merge[merge['goldstandard'] == 'yes']\n",
    "# print(f'Number of tweets in goldstandard: {len(twemlab)}')\n",
    "\n",
    "# assign sentiment label (0, 1) based on emotion\n",
    "# -1 of NONE, will be excluded in later analysis\n",
    "twemlab['sentiment'] = np.where((twemlab['label'] == 'beauty') | (twemlab['label'] == 'happiness'), 1, \n",
    "                                 np.where(twemlab['label'] == 'none', -1, 0))"
   ]
  },
  {
   "cell_type": "code",
   "execution_count": 12,
   "metadata": {
    "tags": [
     "remove-input"
    ]
   },
   "outputs": [
    {
     "data": {
      "text/html": [
       "<div>\n",
       "<style scoped>\n",
       "    .dataframe tbody tr th:only-of-type {\n",
       "        vertical-align: middle;\n",
       "    }\n",
       "\n",
       "    .dataframe tbody tr th {\n",
       "        vertical-align: top;\n",
       "    }\n",
       "\n",
       "    .dataframe thead th {\n",
       "        text-align: right;\n",
       "    }\n",
       "</style>\n",
       "<table border=\"1\" class=\"dataframe\">\n",
       "  <thead>\n",
       "    <tr style=\"text-align: right;\">\n",
       "      <th></th>\n",
       "      <th>id</th>\n",
       "      <th>label</th>\n",
       "      <th>text</th>\n",
       "      <th>goldstandard</th>\n",
       "      <th>sentiment</th>\n",
       "    </tr>\n",
       "  </thead>\n",
       "  <tbody>\n",
       "    <tr>\n",
       "      <th>5</th>\n",
       "      <td>200000000000000006</td>\n",
       "      <td>sadness</td>\n",
       "      <td>The unnamed woman, in her 30s, had been on the...</td>\n",
       "      <td>yes</td>\n",
       "      <td>0</td>\n",
       "    </tr>\n",
       "    <tr>\n",
       "      <th>6</th>\n",
       "      <td>200000000000000007</td>\n",
       "      <td>anger/disgust</td>\n",
       "      <td>Attempt theft from Motor Vehicle - Rookery Par...</td>\n",
       "      <td>yes</td>\n",
       "      <td>0</td>\n",
       "    </tr>\n",
       "    <tr>\n",
       "      <th>7</th>\n",
       "      <td>200000000000000008</td>\n",
       "      <td>beauty</td>\n",
       "      <td>Heather and webs... #heather #cobwebs #nature ...</td>\n",
       "      <td>yes</td>\n",
       "      <td>1</td>\n",
       "    </tr>\n",
       "    <tr>\n",
       "      <th>8</th>\n",
       "      <td>200000000000000009</td>\n",
       "      <td>sadness</td>\n",
       "      <td>The unnamed woman, in her 30s, had been on the...</td>\n",
       "      <td>yes</td>\n",
       "      <td>0</td>\n",
       "    </tr>\n",
       "    <tr>\n",
       "      <th>9</th>\n",
       "      <td>200000000000000010</td>\n",
       "      <td>sadness</td>\n",
       "      <td>Birmingham: Lianne Harris - mini Pype Hayes Pa...</td>\n",
       "      <td>yes</td>\n",
       "      <td>0</td>\n",
       "    </tr>\n",
       "  </tbody>\n",
       "</table>\n",
       "</div>"
      ],
      "text/plain": [
       "                   id          label  \\\n",
       "5  200000000000000006        sadness   \n",
       "6  200000000000000007  anger/disgust   \n",
       "7  200000000000000008         beauty   \n",
       "8  200000000000000009        sadness   \n",
       "9  200000000000000010        sadness   \n",
       "\n",
       "                                                text goldstandard  sentiment  \n",
       "5  The unnamed woman, in her 30s, had been on the...          yes          0  \n",
       "6  Attempt theft from Motor Vehicle - Rookery Par...          yes          0  \n",
       "7  Heather and webs... #heather #cobwebs #nature ...          yes          1  \n",
       "8  The unnamed woman, in her 30s, had been on the...          yes          0  \n",
       "9  Birmingham: Lianne Harris - mini Pype Hayes Pa...          yes          0  "
      ]
     },
     "execution_count": 12,
     "metadata": {},
     "output_type": "execute_result"
    }
   ],
   "source": [
    "# check dataset\n",
    "twemlab[5:10]"
   ]
  },
  {
   "cell_type": "code",
   "execution_count": 13,
   "metadata": {
    "tags": [
     "hide-input"
    ]
   },
   "outputs": [
    {
     "data": {
      "image/png": "[encoded data removed]",
      "text/plain": [
       "<Figure size 600x400 with 1 Axes>"
      ]
     },
     "metadata": {
      "filenames": {
       "image/png": "D:\\Users\\Christina\\Documents\\gitlab_vscode\\sentiment-analysis\\book\\_build\\jupyter_execute\\Lexicon_and_Machine_Learning_22_0.png"
      }
     },
     "output_type": "display_data"
    },
    {
     "data": {
      "image/png": "[encoded data removed]",
      "text/plain": [
       "<Figure size 600x400 with 1 Axes>"
      ]
     },
     "metadata": {
      "filenames": {
       "image/png": "D:\\Users\\Christina\\Documents\\gitlab_vscode\\sentiment-analysis\\book\\_build\\jupyter_execute\\Lexicon_and_Machine_Learning_22_1.png"
      }
     },
     "output_type": "display_data"
    }
   ],
   "source": [
    "# Split both datasets into training and testing subsets and show overall sentiment distribution\n",
    "train_x, test_x, train_y, test_y = split_test_train(semeval, \"SemEval\")\n",
    "train_x_tw, test_x_tw, train_y_tw, test_y_tw = split_test_train(twemlab, \"Twemlab\")\n"
   ]
  },
  {
   "cell_type": "code",
   "execution_count": 14,
   "metadata": {
    "tags": [
     "remove-cell"
    ]
   },
   "outputs": [
    {
     "name": "stdout",
     "output_type": "stream",
     "text": [
      "key: ('complet', 1.0), count: 6\n",
      "key: ('fair', 1.0), count: 7\n",
      "key: ('redeem', 1.0), count: 1\n",
      "key: ('factor', 1.0), count: 1\n",
      "key: ('food', 1.0), count: 378\n",
      "key: ('averag', 1.0), count: 6\n",
      "key: ('make', 1.0), count: 37\n",
      "key: ('defici', 1.0), count: 1\n",
      "key: ('teodora', 1.0), count: 1\n",
      "key: ('uniformli', 1.0), count: 1\n",
      "key: ('say', 1.0), count: 1\n",
      "key: ('summer', 1.0), count: 6\n",
      "key: ('beauti', 1.0), count: 21\n",
      "key: ('run', 1.0), count: 15\n",
      "key: ('edinburgh', 1.0), count: 1\n",
      "key: ('last', 1.0), count: 9\n",
      "key: ('friday', 1.0), count: 2\n",
      "key: ('sutton', 1.0), count: 85\n",
      "key: ('park', 1.0), count: 230\n",
      "key: ('saturday', 1.0), count: 5\n"
     ]
    }
   ],
   "source": [
    "# TRAIN SEMEVAL NAIVE BAYES\n",
    "# Build a freqs dictionary to count how often a given word is associated with a\n",
    "# positive or negative label\n",
    "freqs = count_sents({}, train_x, train_y)\n",
    "\n",
    "# Check how the freqs dict turned out\n",
    "for i in range(10):\n",
    "  checking = list(freqs.keys())[i] \n",
    "  print(f'key: {checking}, count: {freqs[checking]}')\n",
    "\n",
    "# call the train function for naive bayes model to get logprior and loglikelihood\n",
    "#  \n",
    "# logprior = the baseline likelihood that a given text is positive or negative \n",
    "#     simply based on the proportions of positive and negative texts (i.e. a \n",
    "#     logprior around 0 indicates a very balanced dataset)\n",
    "#\n",
    "# loglikelihood = a sum of the logarithms of the conditional probability ratio\n",
    "#     of all unique words in the corpus\n",
    "\n",
    "logprior, loglikelihood = train_naive_bayes(freqs, train_x, train_y)\n",
    "\n",
    "# TRAIN TWEMLAB NAIVE BAYES\n",
    "# Build a freqs dictionary to count how often a given word is associated with a\n",
    "# positive or negative label\n",
    "freqs1 = count_sents({}, train_x_tw, train_y_tw)\n",
    "\n",
    "# Check how the freqs dict turned out\n",
    "for i in range(10):\n",
    "  checking1 = list(freqs1.keys())[i] \n",
    "  print(f'key: {checking1}, count: {freqs1[checking1]}')\n",
    "\n",
    "logprior1, loglikelihood1 = train_naive_bayes(freqs1, train_x_tw, train_y_tw)\n"
   ]
  },
  {
   "cell_type": "code",
   "execution_count": 15,
   "metadata": {
    "tags": [
     "remove-cell"
    ]
   },
   "outputs": [
    {
     "ename": "StdinNotImplementedError",
     "evalue": "raw_input was called, but this frontend does not support input requests.",
     "output_type": "error",
     "traceback": [
      "\u001b[1;31m---------------------------------------------------------------------------\u001b[0m",
      "\u001b[1;31mStdinNotImplementedError\u001b[0m                  Traceback (most recent call last)",
      "Cell \u001b[1;32mIn[15], line 4\u001b[0m\n\u001b[0;32m      1\u001b[0m \u001b[38;5;66;03m# Experiment with your own \"tweet\", e.g. \"looks great\" or \"having a bad day\"\u001b[39;00m\n\u001b[0;32m      2\u001b[0m \u001b[38;5;66;03m# Uncomment lines below\u001b[39;00m\n\u001b[1;32m----> 4\u001b[0m my_tweet \u001b[38;5;241m=\u001b[39m \u001b[38;5;28;43minput\u001b[39;49m\u001b[43m(\u001b[49m\u001b[38;5;124;43m'\u001b[39;49m\u001b[38;5;124;43mTest both naive bayes on own text! Enter something here:\u001b[39;49m\u001b[38;5;124;43m'\u001b[39;49m\u001b[43m)\u001b[49m\n\u001b[0;32m      5\u001b[0m p \u001b[38;5;241m=\u001b[39m naive_bayes_predict(my_tweet, logprior, loglikelihood)\n\u001b[0;32m      6\u001b[0m p1 \u001b[38;5;241m=\u001b[39m naive_bayes_predict(my_tweet, logprior1, loglikelihood1)\n",
      "File \u001b[1;32mD:\\Users\\Christina\\Programmes\\envs\\GRACE_GPU\\lib\\site-packages\\ipykernel\\kernelbase.py:1174\u001b[0m, in \u001b[0;36mKernel.raw_input\u001b[1;34m(self, prompt)\u001b[0m\n\u001b[0;32m   1167\u001b[0m \u001b[38;5;124;03m\"\"\"Forward raw_input to frontends\u001b[39;00m\n\u001b[0;32m   1168\u001b[0m \n\u001b[0;32m   1169\u001b[0m \u001b[38;5;124;03mRaises\u001b[39;00m\n\u001b[0;32m   1170\u001b[0m \u001b[38;5;124;03m------\u001b[39;00m\n\u001b[0;32m   1171\u001b[0m \u001b[38;5;124;03mStdinNotImplementedError if active frontend doesn't support stdin.\u001b[39;00m\n\u001b[0;32m   1172\u001b[0m \u001b[38;5;124;03m\"\"\"\u001b[39;00m\n\u001b[0;32m   1173\u001b[0m \u001b[38;5;28;01mif\u001b[39;00m \u001b[38;5;129;01mnot\u001b[39;00m \u001b[38;5;28mself\u001b[39m\u001b[38;5;241m.\u001b[39m_allow_stdin:\n\u001b[1;32m-> 1174\u001b[0m     \u001b[38;5;28;01mraise\u001b[39;00m StdinNotImplementedError(\n\u001b[0;32m   1175\u001b[0m         \u001b[38;5;124m\"\u001b[39m\u001b[38;5;124mraw_input was called, but this frontend does not support input requests.\u001b[39m\u001b[38;5;124m\"\u001b[39m\n\u001b[0;32m   1176\u001b[0m     )\n\u001b[0;32m   1177\u001b[0m \u001b[38;5;28;01mreturn\u001b[39;00m \u001b[38;5;28mself\u001b[39m\u001b[38;5;241m.\u001b[39m_input_request(\n\u001b[0;32m   1178\u001b[0m     \u001b[38;5;28mstr\u001b[39m(prompt),\n\u001b[0;32m   1179\u001b[0m     \u001b[38;5;28mself\u001b[39m\u001b[38;5;241m.\u001b[39m_parent_ident[\u001b[38;5;124m\"\u001b[39m\u001b[38;5;124mshell\u001b[39m\u001b[38;5;124m\"\u001b[39m],\n\u001b[0;32m   1180\u001b[0m     \u001b[38;5;28mself\u001b[39m\u001b[38;5;241m.\u001b[39mget_parent(\u001b[38;5;124m\"\u001b[39m\u001b[38;5;124mshell\u001b[39m\u001b[38;5;124m\"\u001b[39m),\n\u001b[0;32m   1181\u001b[0m     password\u001b[38;5;241m=\u001b[39m\u001b[38;5;28;01mFalse\u001b[39;00m,\n\u001b[0;32m   1182\u001b[0m )\n",
      "\u001b[1;31mStdinNotImplementedError\u001b[0m: raw_input was called, but this frontend does not support input requests."
     ]
    }
   ],
   "source": [
    "# Experiment with your own \"tweet\", e.g. \"looks great\" or \"having a bad day\"\n",
    "# Uncomment lines below\n",
    "\n",
    "my_tweet = input('Test both naive bayes on own text! Enter something here:')\n",
    "p = naive_bayes_predict(my_tweet, logprior, loglikelihood)\n",
    "p1 = naive_bayes_predict(my_tweet, logprior1, loglikelihood1)\n",
    "\n",
    "print('The output from the SemEval trained Naive Bayes model is:', p)\n",
    "print('The output from the Twemlab trained Naive Bayes model is:', p1)"
   ]
  },
  {
   "cell_type": "code",
   "execution_count": 21,
   "metadata": {
    "tags": [
     "hide-input"
    ]
   },
   "outputs": [
    {
     "name": "stdout",
     "output_type": "stream",
     "text": [
      "1: @janlisiecki Do you know vegan ducklings, even bluish? https://t.co/LUdKqOydyD\n",
      "\n",
      "2: @debbslovesnate @br_ricke @cheezysox @Firefly7113 @carmen_borg60 @homenor56 @zaratustra75 @karo8710 @anysogo @Esposito544Anna @stellapocecilia @bancroft_lotty @koshaid1 @Kranich65 @castlekitten47 @shannon_hausen @HartZsuzsanna @CaskettOlitz @caskettuniverse @NathanFillion @NFillionOnline @germannateclub @castle_all @MononenMinna @Star_Medd @pocs80 @CheerfulChemist @castle_alwayys @MDegen55 Have a great weekend Debbie. Enjoy the afternoon. 🍵🌞💞 https://t.co/LkjCcJTIou\n",
      "\n",
      "3: Explored Cochem Castle and the Mosel River Valley yesterday. https://t.co/1wkfMW7aR1\n",
      "\n",
      "4: @dpd_de In March I received late a parcel & I had to throw part of its content away bc it was rotten. Today I had to receive another parcel & the delivery man didn’t follow my instructions, I will get it 3 days late. I’ll have to throw away part of the content AGAIN. No words…\n",
      "\n",
      "5: @MDegen55 Good morning @LawrenCali @leingh @moa_roos @cibir68 @elena_cavallini @iges2u @crstanakatic @christeld23 @Kranich65 @bestofstana @RobertVallet @maricarmengar15 @RossettaStonex @fandelmejor684 @andibeth012 @19Skorpion60 @Maren2410 @manymoonstoo @Carmen21272 @APRN1119 https://t.co/u9L36b6Rfv\n",
      "\n"
     ]
    },
    {
     "data": {
      "image/png": "[encoded data removed]",
      "text/plain": [
       "<Figure size 640x480 with 1 Axes>"
      ]
     },
     "metadata": {
      "filenames": {
       "image/png": "D:\\Users\\Christina\\Documents\\gitlab_vscode\\sentiment-analysis\\book\\_build\\jupyter_execute\\Lexicon_and_Machine_Learning_25_1.png"
      }
     },
     "output_type": "display_data"
    },
    {
     "data": {
      "image/png": "[encoded data removed]",
      "text/plain": [
       "<Figure size 640x480 with 1 Axes>"
      ]
     },
     "metadata": {
      "filenames": {
       "image/png": "D:\\Users\\Christina\\Documents\\gitlab_vscode\\sentiment-analysis\\book\\_build\\jupyter_execute\\Lexicon_and_Machine_Learning_25_2.png"
      }
     },
     "output_type": "display_data"
    }
   ],
   "source": [
    "# for demo purposes, sample 5 english tweets\n",
    "sample_tweets = aifer_en.sample(5)\n",
    "\n",
    "# empty lists\n",
    "p_semeval = []\n",
    "p_twemlab = []\n",
    "tweets = []\n",
    "numbers = list(range(1, 6))\n",
    "string_numbers = list(map(str, numbers))\n",
    "\n",
    "# get prediction from both NB classifiers for each tweet\n",
    "for index, row in sample_tweets.iterrows():\n",
    "    tweets.append(row['text'])\n",
    "    p_semeval.append(naive_bayes_predict(row['text'], logprior, loglikelihood))\n",
    "    p_twemlab.append(naive_bayes_predict(row['text'], logprior1, loglikelihood1))\n",
    "\n",
    "# function to plot results visually\n",
    "def plot_sentiments(numbers, sentiments, name):\n",
    "    \"\"\"\n",
    "    Plots a bar plot of the words and their sentiments.\n",
    "    \n",
    "    Parameters:\n",
    "        words (list of str): A list of words.\n",
    "        sentiments (list of float): A list of sentiment scores between -1 and 1 for each word.\n",
    "        name (str): title of dataset\n",
    "    Returns:\n",
    "        None\n",
    "    \"\"\"\n",
    "    colors = ['#73E87F' if score > 0 else '#F24E4E' for score in sentiments]\n",
    "    fig, ax = plt.subplots()\n",
    "    ax.bar(numbers, sentiments, color=colors)\n",
    "    ax.set_xlabel(\"Tweet Nr.\")\n",
    "    ax.set_ylabel(\"Sentiments\")\n",
    "    ax.set_title(f\"Naive Bayes Predictions based on {name} Training Data\")\n",
    "    plt.show()\n",
    "\n",
    "for i in range(len(tweets)):\n",
    "    print(f\"{numbers[i]}: {tweets[i]}\\n\")\n",
    "\n",
    "# input list of tweets, the according sentiment scores, and the name of the dataset for NB training\n",
    "plot_sentiments(numbers, p_semeval, \"SemEval\")\n",
    "plot_sentiments(numbers, p_twemlab, \"Twemlab\")\n"
   ]
  },
  {
   "cell_type": "code",
   "execution_count": 23,
   "metadata": {
    "tags": [
     "remove-input"
    ]
   },
   "outputs": [
    {
     "name": "stdout",
     "output_type": "stream",
     "text": [
      "Naive Bayes accuracy when trained on SemEval 2014 = 0.7947\n",
      "Naive Bayes accuracy when trained on Twemlab = 0.9121\n"
     ]
    }
   ],
   "source": [
    "print(\"Naive Bayes accuracy when trained on SemEval 2014 = %0.4f\" %\n",
    "      (test_naive_bayes(test_x, test_y, logprior, loglikelihood)))\n",
    "\n",
    "print(\"Naive Bayes accuracy when trained on Twemlab = %0.4f\" %\n",
    "      (test_naive_bayes(test_x_tw, test_y_tw, logprior1, loglikelihood1)))"
   ]
  },
  {
   "attachments": {},
   "cell_type": "markdown",
   "metadata": {},
   "source": [
    "### Machine Learning Approach: Support Vector Machine \n",
    "\n",
    "<img src=\"https://scikit-learn.org/stable/_images/sphx_glr_plot_svm_margin_thumb.png\" align=\"right\"> \n",
    "\n",
    "Using readily available libraries like sklearn, an SVM classifier (in this case SVC (Support Vector Classification)) can be trained for binary classification problems like pos-neg sentiment classification. The SVC classifier predicts the class label of a given sample based on the feature set. It solves the optimization problem to find a hyperplane that maximally separates the positive and negative class samples in the feature space. The optimization problem is solved using the maximum margin principle, where the margin is the distance between the hyperplane and the closest samples from each class, called support vectors. The SVC classifier is a useful tool for performing binary classification problems, particularly when the number of features is high, and the data is not linearly separable.\n",
    "\n",
    "\n",
    "\n"
   ]
  },
  {
   "cell_type": "code",
   "execution_count": 8,
   "metadata": {
    "tags": [
     "hide-input"
    ]
   },
   "outputs": [
    {
     "name": "stdout",
     "output_type": "stream",
     "text": [
      "Accuracy:  0.762\n",
      "Precision:  0.772\n",
      "Recall:  0.939\n",
      "F1-score:  0.847\n"
     ]
    }
   ],
   "source": [
    "# Import libraries\n",
    "from sklearn.model_selection import train_test_split\n",
    "from sklearn.feature_extraction.text import CountVectorizer\n",
    "from sklearn.svm import SVC\n",
    "from sklearn.metrics import accuracy_score, precision_score, recall_score, f1_score\n",
    "from sklearn import svm\n",
    "\n",
    "# semeval binary sentimetns pos-neg\n",
    "semeval_binary = semeval[(semeval['sentiment'] == 1) | (semeval['sentiment'] == 0)]\n",
    "\n",
    "# Convert the text data into numerical features using CountVectorizer\n",
    "vectorizer = CountVectorizer()\n",
    "\n",
    "# Preprocess and split the data\n",
    "X = vectorizer.fit_transform(semeval_binary[\"text\"])\n",
    "y = semeval_binary['sentiment'] # labels\n",
    "X_train, X_test, y_train, y_test = train_test_split(X, y, test_size=0.2, random_state=42)\n",
    "\n",
    "# Train the classifier\n",
    "clf = SVC()\n",
    "clf.fit(X_train, y_train)\n",
    "\n",
    "# Test the classifier\n",
    "y_pred = clf.predict(X_test)\n",
    "\n",
    "# Evaluate the performance\n",
    "accuracy = accuracy_score(y_test, y_pred)\n",
    "precision = precision_score(y_test, y_pred)\n",
    "recall = recall_score(y_test, y_pred)\n",
    "f1 = f1_score(y_test, y_pred)\n",
    "\n",
    "print('Accuracy: ', accuracy.round(3))\n",
    "print('Precision: ', precision.round(3))\n",
    "print('Recall: ', recall.round(3))\n",
    "print('F1-score: ', f1.round(3))"
   ]
  },
  {
   "attachments": {},
   "cell_type": "markdown",
   "metadata": {},
   "source": [
    "Using the trained (on SemEval 2014) SVM classifier to classify the AIFER english dataset. Here is a sample of the classification:"
   ]
  },
  {
   "cell_type": "code",
   "execution_count": 29,
   "metadata": {
    "tags": [
     "remove-cell"
    ]
   },
   "outputs": [
    {
     "name": "stderr",
     "output_type": "stream",
     "text": [
      "C:\\Users\\Christina\\AppData\\Local\\Temp\\ipykernel_13860\\2473405338.py:4: SettingWithCopyWarning: \n",
      "A value is trying to be set on a copy of a slice from a DataFrame.\n",
      "Try using .loc[row_indexer,col_indexer] = value instead\n",
      "\n",
      "See the caveats in the documentation: https://pandas.pydata.org/pandas-docs/stable/user_guide/indexing.html#returning-a-view-versus-a-copy\n",
      "  aifer_en['sentiment_svm'] = y_pred\n"
     ]
    }
   ],
   "source": [
    "# Test the classifier\n",
    "X_new = vectorizer.transform(aifer_en[\"text\"])\n",
    "y_pred = clf.predict(X_new)\n",
    "aifer_en['sentiment_svm'] = y_pred\n"
   ]
  },
  {
   "cell_type": "code",
   "execution_count": 50,
   "metadata": {
    "tags": [
     "remove-input"
    ]
   },
   "outputs": [
    {
     "data": {
      "text/html": [
       "<style type=\"text/css\">\n",
       "#T_69cf0 th {\n",
       "  text-align: left;\n",
       "}\n",
       "#T_69cf0_row0_col0, #T_69cf0_row0_col1, #T_69cf0_row1_col0, #T_69cf0_row1_col1, #T_69cf0_row2_col0, #T_69cf0_row2_col1, #T_69cf0_row3_col0, #T_69cf0_row3_col1, #T_69cf0_row4_col0, #T_69cf0_row4_col1 {\n",
       "  text-align: left;\n",
       "}\n",
       "</style>\n",
       "<table id=\"T_69cf0\">\n",
       "  <thead>\n",
       "    <tr>\n",
       "      <th class=\"blank level0\" >&nbsp;</th>\n",
       "      <th id=\"T_69cf0_level0_col0\" class=\"col_heading level0 col0\" >SVM Sentiment</th>\n",
       "      <th id=\"T_69cf0_level0_col1\" class=\"col_heading level0 col1\" >Text</th>\n",
       "    </tr>\n",
       "  </thead>\n",
       "  <tbody>\n",
       "    <tr>\n",
       "      <th id=\"T_69cf0_level0_row0\" class=\"row_heading level0 row0\" >10550</th>\n",
       "      <td id=\"T_69cf0_row0_col0\" class=\"data row0 col0\" >1</td>\n",
       "      <td id=\"T_69cf0_row0_col1\" class=\"data row0 col1\" >Explored Cochem Castle and the Mosel River Valley yesterday. https://t.co/1wkfMW7aR1</td>\n",
       "    </tr>\n",
       "    <tr>\n",
       "      <th id=\"T_69cf0_level0_row1\" class=\"row_heading level0 row1\" >1840</th>\n",
       "      <td id=\"T_69cf0_row1_col0\" class=\"data row1 col0\" >1</td>\n",
       "      <td id=\"T_69cf0_row1_col1\" class=\"data row1 col1\" >@MDegen55 Happy Wednesday Debbie. 💛💙💚 https://t.co/s71wEY6LZz</td>\n",
       "    </tr>\n",
       "    <tr>\n",
       "      <th id=\"T_69cf0_level0_row2\" class=\"row_heading level0 row2\" >510</th>\n",
       "      <td id=\"T_69cf0_row2_col0\" class=\"data row2 col0\" >1</td>\n",
       "      <td id=\"T_69cf0_row2_col1\" class=\"data row2 col1\" >@koshaid1 @pocs80 @AnetteRuff1 @piaroos1 @moa_roos @Jenny_S3005 @nlopes952 @MononenMinna @sadino22 @blovencik @HartZsuzsanna @FabischKerstin @stellapocecilia @MontrucchiPaola @Chrissychatt @Kranich65 @iges2u @frmirielis @andibeth012 @christeld23 @manfred_degen @60Ritschi @MDegen55 Good evening Gus. https://t.co/rg4ckBWmiT</td>\n",
       "    </tr>\n",
       "    <tr>\n",
       "      <th id=\"T_69cf0_level0_row3\" class=\"row_heading level0 row3\" >94</th>\n",
       "      <td id=\"T_69cf0_row3_col0\" class=\"data row3 col0\" >0</td>\n",
       "      <td id=\"T_69cf0_row3_col1\" class=\"data row3 col1\" >@KalengaKamwendo Bro till this day, I am mad my dad asked me to focus on school & not Sport.😒 I think we need better systems to identify & develop talent.</td>\n",
       "    </tr>\n",
       "    <tr>\n",
       "      <th id=\"T_69cf0_level0_row4\" class=\"row_heading level0 row4\" >852</th>\n",
       "      <td id=\"T_69cf0_row4_col0\" class=\"data row4 col0\" >1</td>\n",
       "      <td id=\"T_69cf0_row4_col1\" class=\"data row4 col1\" >you don’t \n",
       "always need a plan - \n",
       "sometimes you \n",
       "just need to breathe,\n",
       "trust, let go,\n",
       "and see what happens.\n",
       "☆\n",
       "\n",
       "SHOOTING. SCHLOSS KOBLENZ\n",
       "photo. @le_fotografie_cgn \n",
       "\n",
       "#danielagviolin #danielagcom #violin #violinist #geige #violinshoot #fotoshoot #schlosskoblenz #koblenz https://t.co/EpbL1113LK</td>\n",
       "    </tr>\n",
       "  </tbody>\n",
       "</table>\n"
      ],
      "text/plain": [
       "<pandas.io.formats.style.Styler at 0x231e66e1700>"
      ]
     },
     "execution_count": 50,
     "metadata": {},
     "output_type": "execute_result"
    }
   ],
   "source": [
    "aifer_demo = aifer_en[['sentiment_svm', 'text']]\n",
    "col_names = {'text': 'Text', 'sentiment_svm': 'SVM Sentiment'}\n",
    "aifer_demo = aifer_demo.rename(columns=col_names)\n",
    "aifer_demo.sample(5).style.set_properties(**{'text-align': 'left'}).set_table_styles([dict(selector = 'th', props=[('text-align', 'left')])])"
   ]
  },
  {
   "cell_type": "code",
   "execution_count": 51,
   "metadata": {
    "tags": [
     "remove-input"
    ]
   },
   "outputs": [
    {
     "data": {
      "image/png": "[encoded data removed]",
      "text/plain": [
       "<Figure size 600x400 with 1 Axes>"
      ]
     },
     "metadata": {
      "filenames": {
       "image/png": "D:\\Users\\Christina\\Documents\\gitlab_vscode\\sentiment-analysis\\book\\_build\\jupyter_execute\\Lexicon_and_Machine_Learning_32_0.png"
      }
     },
     "output_type": "display_data"
    }
   ],
   "source": [
    "# split positive and negative texts\n",
    "pos = aifer_en[aifer_en['sentiment_svm'] == 1]\n",
    "neg = aifer_en[aifer_en['sentiment_svm'] == 0]\n",
    "\n",
    "# Plot the data\n",
    "labels = ['Positive Tweets', 'Negative Tweets']\n",
    "data = [len(pos), len(neg)]\n",
    "\n",
    "x_axis = ['Positive','Negative']\n",
    "y_axis = [len(pos), len(neg)]\n",
    "\n",
    "plt.figure(figsize=(6, 4))\n",
    "\n",
    "# set the custom colors\n",
    "colors = ['#73E87F' ,'#F24E4E']\n",
    "\n",
    "# plot the bar chart\n",
    "plt.bar(x_axis, y_axis, color=colors)\n",
    "\n",
    "# Add title and labels\n",
    "plt.title(f\"Sentiment Distribution in the SVM Classified AIFER Dataset\")\n",
    "plt.xlabel(\"Sentiment\")\n",
    "plt.ylabel(\"Count\")\n",
    "\n",
    "plt.show()"
   ]
  },
  {
   "attachments": {},
   "cell_type": "markdown",
   "metadata": {},
   "source": [
    "In recent years, the use of lexicon-based methods and traditional machine learning models for sentiment analysis has **decreased in popularity**. This shift has been largely driven by the **emergence of deep learning models**, which have shown impressive results on NLP tasks such as sentiment classification. With the availability of vast amounts of text data, deep learning models such as transformers have been able to capture more complex patterns and relationships within the data, leading to improved performance compared to lexicon-based and machine learning models. As a result, deep learning methods are now seen as the state-of-the-art approach for sentiment analysis and other NLP tasks."
   ]
  }
 ],
 "metadata": {
  "kernelspec": {
   "display_name": "GRACE_GPU",
   "language": "python",
   "name": "python3"
  },
  "language_info": {
   "codemirror_mode": {
    "name": "ipython",
    "version": 3
   },
   "file_extension": ".py",
   "mimetype": "text/x-python",
   "name": "python",
   "nbconvert_exporter": "python",
   "pygments_lexer": "ipython3",
   "version": "3.9.15"
  },
  "vscode": {
   "interpreter": {
    "hash": "d330c58e3bb01c9a6aa22fdc5b13d0bc6cc6d676164106ca161027b468300435"
   }
  }
 },
 "nbformat": 4,
 "nbformat_minor": 2
}